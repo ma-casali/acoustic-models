{
 "cells": [
  {
   "cell_type": "code",
   "execution_count": 5,
   "id": "db469708-8fb0-4484-b4cb-4b42c6913fb9",
   "metadata": {},
   "outputs": [],
   "source": [
    "import numpy as np\n",
    "import matplotlib.pyplot as plt\n",
    "import scipy"
   ]
  },
  {
   "cell_type": "code",
   "execution_count": 6,
   "id": "57654c0e-1711-48d5-b0e2-ec0a192e27b3",
   "metadata": {},
   "outputs": [],
   "source": [
    "# load in relevant data\n",
    "\n"
   ]
  },
  {
   "cell_type": "code",
   "execution_count": 23,
   "id": "de4773ba-13b6-4bf5-860a-1fb544d6ea2e",
   "metadata": {},
   "outputs": [],
   "source": [
    "def u0_gaussian(z, G_w = 0.5, G_a = 1e-6, z_s = 300):\n",
    "    return G_a*(np.exp(-((z - z_s)/G_w)**2) - np.exp(-((-z - z_s)/G_w)**2))\n",
    "\n",
    "def c_given(f, r, z):\n",
    "    # load in SSP table\n",
    "    ssp_filename = '2017-002-FA_CTD24.svp'\n",
    "    ssp_full_filename = '/Users/matthewcasali/Documents/PythonScripts/acoustic-models/SSP_USGS/' + ssp_filename\n",
    "    try:\n",
    "        with open(ssp_full_filename, 'r') as file:\n",
    "            content = file.read()\n",
    "            content = content.split('\\n')[3:-1]\n",
    "            content = [item.split(' ') for item in content]\n",
    "            converted_list = np.array([[float(item) for item in sublist] for sublist in content])\n",
    "            z_ssp = converted_list[:,0] # [m] corresponding vertical coordinates for ssp\n",
    "            ssp = converted_list[:,1] # [m/s] sound speed profile, https://doi.org/10.5066/P9Y1MSTN\n",
    "            ssp_cs = scipy.interpolate.CubicSpline(z_ssp, ssp)\n",
    "    except FileNotFoundError:\n",
    "        print(f\"Error: {file} was not found.\", file = ssp_filename)\n",
    "    c_start = ssp_cs(z)\n",
    "    c = np.tile(np.append(np.append(1e-6, c_start), c_start[-1]), (np.size(r),1))\n",
    "    return c \n",
    "\n",
    "def surf_test(r, k_0):\n",
    "    return np.zeros_like(r)\n",
    "\n",
    "def bottom_test(r, \n",
    "\n",
    "# --- burger test ---\n",
    "def u0_burger(z, k_0):\n",
    "    return 1 / (1 + np.exp(-1j*k_0*z/2))\n",
    "\n",
    "def surf_burger(r, k_0):\n",
    "    return 1 / (1 + np.exp(1j*r*k_0/2))\n",
    "\n",
    "def bottom_burger(r, k_0, z_max):\n",
    "    return 1 / (1 + np.exp(1j*k_0/2*(-2*z_max + r)))\n",
    "\n",
    "def c_burger(f, r, z, c_0 = 1500):\n",
    "    if len(np.shape(r)) == 1:\n",
    "        r = r[:,np.newaxis]\n",
    "        z = z[:,np.newaxis]\n",
    "    Z, R = np.meshgrid(z, r)\n",
    "    c = c_0*np.sqrt(1 + (1 / (np.cos(2*np.pi*f/c_0*(Z - 0.5*R)))))\n",
    "    c = np.append(1e-6*np.ones_like(r), c, axis = 1)\n",
    "    c = np.append(c, c_0*np.ones_like(r), axis = 1)\n",
    "    return c"
   ]
  },
  {
   "cell_type": "code",
   "execution_count": 24,
   "id": "76e0a258-34e0-4529-bef5-92f8ae294e7e",
   "metadata": {},
   "outputs": [],
   "source": [
    "# implicit scheme for finite difference calculations\n",
    "# the following was created using the implicit scheme defined in the report:\n",
    "# IFD: An Implicit Finite-Difference Computer Model for Solving the Parabolic Equation (Botseas 1982)\n",
    "\n",
    "def ifd_pe(f, r, z, c_func, u0_func, surf_func, bottom_func, k = None, h = None):\n",
    "\n",
    "    if type(k) == type(None):\n",
    "        k = c_func(f, np.zeros(10), np.zeros(10))[0,0]/f/6 # [m] step size in range\n",
    "        r = np.arange(0,r[-1],k)\n",
    "    if type(h) == type(None):\n",
    "        h = c_func(f, np.zeros(10), np.zeros(10))[0,0]/f/6 # [m] step size in depth\n",
    "        z = np.arange(0,z_max,k)\n",
    "    \n",
    "    # defining the sound speed profile\n",
    "    c = c_func(f, r, z)\n",
    "    \n",
    "    # defining the density profile\n",
    "    rho   = 1000*np.ones((np.size(r), np.size(z)+2))\n",
    "    rho_0 = rho[0,0]\n",
    "    \n",
    "    # refractive index and wave number\n",
    "    c_0 = 1500\n",
    "    n     = c_0/c\n",
    "    k_0   = 2*np.pi*f/c_0 # [1/m]\n",
    "    \n",
    "    # angle the surface makes with the bottom normal\n",
    "    theta =0*np.ones_like(n) # [rad]\n",
    "\n",
    "    # variables for use in system of equations\n",
    "    a = 1j/2*k_0*(n**2 - 1)\n",
    "    b = 1j/(2*k_0) * np.ones_like(n)\n",
    "\n",
    "    P = 1 / (1/b[:,1:-1] + (rho[:,1:-1]/rho[:,2:])*(1/b[:,2:]))\n",
    "    Q = (a[:,1:-1]/b[:,1:-1] + (rho[:,1:-1]/rho[:,2:])*(a[:,2:]/b[:,2:]))\n",
    "    \n",
    "    X = h**2/k*(1/P) - 0.5*h**2*Q + (1 + rho[:,1:-1]/rho[:,2:])\n",
    "    Y = h**2/k*(1/P) - 0.5*h**2*Q - (1 + rho[:,1:-1]/rho[:,2:])\n",
    "\n",
    "    u = np.ones((np.size(r), np.size(z)+2))*(1 + 1j)\n",
    "    # set up boundary conditions\n",
    "    u[0,1:-1] = u0_func(z, k_0)\n",
    "    u[:,0] = surf_func(r, k_0)\n",
    "    u[:,-1] = bottom_func(r, k_0, z[-1])\n",
    "\n",
    "    nn = 0\n",
    "    while nn < 1: # np.size(r)-1:\n",
    "    \n",
    "        rows = np.arange(np.size(z))\n",
    "        cols = np.arange(np.size(z))\n",
    "        \n",
    "        A = np.diag(X[nn+1,:]) # M x M\n",
    "        A[rows[:-1],cols[1:]] = -rho[nn,1:-2]/rho[nn,2:-1]\n",
    "        A[rows[1:], cols[:-1]] = -1*np.ones_like(rho[nn,1:-2])\n",
    "    \n",
    "        B = np.diag(Y[nn,:]) # M x M\n",
    "        B[rows[:-1], cols[1:]] = rho[nn,1:-2]/rho[nn,2:-1]\n",
    "        B[rows[1:], cols[:-1]] = -1*np.ones_like(rho[nn,1:-2])\n",
    "    \n",
    "        C = np.zeros_like(z)*(1+1j) # M x 1\n",
    "        C[0] = u[nn+1,0]\n",
    "        C[-1] = u[nn+1,-1]\n",
    "    \n",
    "        D = np.zeros_like(z)*(1+1j) # M x 1\n",
    "        D[0] = u[nn,0]\n",
    "        D[-1] = u[nn,-1]\n",
    "        \n",
    "        u[nn+1,1:-1] = (np.linalg.inv(A) @ (C + B@u[nn,1:-1] + D)).squeeze()\n",
    "    \n",
    "        nn += 1\n",
    "\n",
    "    return [u, r, z]"
   ]
  },
  {
   "cell_type": "code",
   "execution_count": 25,
   "id": "0d3c0f28-2101-4904-928d-6e9c829f8462",
   "metadata": {},
   "outputs": [],
   "source": [
    "# defining depth and range\n",
    "z = np.arange(0,200)\n",
    "r = np.arange(0,600) # [m]\n",
    "f = 500\n",
    "\n",
    "[u, r, z] = ifd_pe(f, r, z, c_given, u0_burger, surf_burger, bottom_burger, k = 7, h = 0.1)"
   ]
  },
  {
   "cell_type": "code",
   "execution_count": 21,
   "id": "1015acef-cf5a-4140-bf8c-446553309142",
   "metadata": {},
   "outputs": [
    {
     "data": {
      "image/png": "[encoded data removed]",
      "text/plain": [
       "<Figure size 640x480 with 2 Axes>"
      ]
     },
     "metadata": {},
     "output_type": "display_data"
    }
   ],
   "source": [
    "fig, ax = plt.subplots()\n",
    "plotR = np.append(r,r[-1]+7)\n",
    "plotZ = np.append(z,z[-1]+0.1)\n",
    "X, Y = np.meshgrid(plotR, plotZ)\n",
    "im = ax.pcolormesh(r, z, np.transpose(-20*np.log10(1/np.abs(u[:,1:-1]))), vmin = 100, vmax = 200)\n",
    "ax.invert_yaxis()\n",
    "cbar = fig.colorbar(im, ax=ax, label='Color Scale')"
   ]
  },
  {
   "cell_type": "code",
   "execution_count": 22,
   "id": "de0c9068-a086-4215-88ba-aa257ae58374",
   "metadata": {},
   "outputs": [
    {
     "data": {
      "text/plain": [
       "array([[0.5+0.00000000e+00j, 0.5+0.00000000e+00j, 0.5-8.66025404e-01j,\n",
       "        0.5+8.66025404e-01j, 0.5-3.06161700e-16j, 0.5-8.66025404e-01j,\n",
       "        0.5+8.66025404e-01j, 0.5-6.12323400e-16j, 0.5-8.66025404e-01j,\n",
       "        0.5+8.66025404e-01j, 0.5+8.57871740e-16j, 0.5+1.71574348e-15j],\n",
       "       [0.5+8.66025404e-01j, nan           +nanj, nan           +nanj,\n",
       "        nan           +nanj, nan           +nanj, nan           +nanj,\n",
       "        nan           +nanj, nan           +nanj, nan           +nanj,\n",
       "        nan           +nanj, nan           +nanj, 0.5+8.66025404e-01j]])"
      ]
     },
     "execution_count": 22,
     "metadata": {},
     "output_type": "execute_result"
    }
   ],
   "source": [
    "u"
   ]
  },
  {
   "cell_type": "code",
   "execution_count": 4,
   "id": "98e69cdb-26e5-42b9-9f99-c1468ff40f6e",
   "metadata": {},
   "outputs": [
    {
     "name": "stdout",
     "output_type": "stream",
     "text": [
      "True\n"
     ]
    }
   ],
   "source": [
    "x = None\n",
    "type(x)\n",
    "print(type(x) == type(None))"
   ]
  },
  {
   "cell_type": "code",
   "execution_count": null,
   "id": "50084135-9204-442a-8d98-88ac44f10e65",
   "metadata": {},
   "outputs": [],
   "source": []
  },
  {
   "cell_type": "code",
   "execution_count": null,
   "id": "f6073819-fa82-482c-94c3-e672069ef8cf",
   "metadata": {},
   "outputs": [],
   "source": []
  },
  {
   "cell_type": "code",
   "execution_count": null,
   "id": "f24524d8-acfc-489f-8d27-ea4fd6da2e97",
   "metadata": {},
   "outputs": [],
   "source": []
  },
  {
   "cell_type": "code",
   "execution_count": null,
   "id": "9cb7005f-c303-48a2-8607-2af712a57c64",
   "metadata": {},
   "outputs": [],
   "source": []
  }
 ],
 "metadata": {
  "kernelspec": {
   "display_name": "Python [conda env:base] *",
   "language": "python",
   "name": "conda-base-py"
  },
  "language_info": {
   "codemirror_mode": {
    "name": "ipython",
    "version": 3
   },
   "file_extension": ".py",
   "mimetype": "text/x-python",
   "name": "python",
   "nbconvert_exporter": "python",
   "pygments_lexer": "ipython3",
   "version": "3.13.5"
  }
 },
 "nbformat": 4,
 "nbformat_minor": 5
}
