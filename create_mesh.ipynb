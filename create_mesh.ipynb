{
 "cells": [
  {
   "cell_type": "code",
   "execution_count": 85,
   "id": "f78c9248-d63a-46cf-924c-5007c851380a",
   "metadata": {},
   "outputs": [],
   "source": [
    "def create_mesh(topo, r_max, f, c_0 = 1500):\n",
    "\n",
    "    \"\"\"\n",
    "    INPUTS: \n",
    "    topo: [m] 1-d array where each index indicates an elevation or depth at a corresponding range\n",
    "    r_max: [m] a float indicating the maximum range\n",
    "    f: [Hz] the frequency of study\n",
    "    c_0 = 1500: [m/s] the reference speed of sound in the medium\n",
    "\n",
    "    OUTPUTS:\n",
    "    r_mesh: [m] 1-d array of the range points of the mesh\n",
    "    z_mesh: [m] 1-d array of the depth points of the mesh\n",
    "\n",
    "    create_mesh() uses a given topography to create a mesh of points on which to calculate a field and \n",
    "    uses the reference wavelength to determine the resolution with which to map the topography. \n",
    "    \"\"\"\n",
    "    \n",
    "    h = c_0/f\n",
    "    z_mesh = h*np.round(topo/h) \n",
    "\n",
    "    h_divide = 2\n",
    "    while np.max(topo - z_mesh) > c_0/f/3:\n",
    "        h_divide += 1\n",
    "        z_mesh = (h/h_divide)*np.round(topo/(h/h_divide)) \n",
    "\n",
    "    h /= h_divide - 1\n",
    "    k = h\n",
    "    r_mesh = np.arange(0, r_max, k)\n",
    "    z_mesh = np.arange(0, np.max(z_mesh), h)\n",
    "\n",
    "    print(\"Mesh created with %d points.\" % (np.size(r_mesh)*np.size(z_mesh)))\n",
    "    \n",
    "    return [r_mesh, z_mesh]\n"
   ]
  }
 ],
 "metadata": {
  "kernelspec": {
   "display_name": "Python [conda env:base] *",
   "language": "python",
   "name": "conda-base-py"
  },
  "language_info": {
   "codemirror_mode": {
    "name": "ipython",
    "version": 3
   },
   "file_extension": ".py",
   "mimetype": "text/x-python",
   "name": "python",
   "nbconvert_exporter": "python",
   "pygments_lexer": "ipython3",
   "version": "3.11.7"
  }
 },
 "nbformat": 4,
 "nbformat_minor": 5
}
